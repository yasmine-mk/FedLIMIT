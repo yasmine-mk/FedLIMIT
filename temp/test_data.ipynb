{
 "cells": [
  {
   "cell_type": "code",
   "execution_count": 1,
   "metadata": {},
   "outputs": [],
   "source": [
    "import medmnist"
   ]
  },
  {
   "cell_type": "code",
   "execution_count": 19,
   "metadata": {},
   "outputs": [],
   "source": [
    "import numpy as np"
   ]
  },
  {
   "cell_type": "code",
   "execution_count": 9,
   "metadata": {},
   "outputs": [
    {
     "name": "stdout",
     "output_type": "stream",
     "text": [
      "Using downloaded and verified file: /home/hazem/.medmnist/breastmnist.npz\n"
     ]
    }
   ],
   "source": [
    "dataclass = getattr(medmnist, medmnist.INFO[\"breastmnist\"][\"python_class\"])\n",
    "train_data = dataclass(split=\"train\", download=True)"
   ]
  },
  {
   "cell_type": "code",
   "execution_count": 8,
   "metadata": {},
   "outputs": [
    {
     "name": "stdout",
     "output_type": "stream",
     "text": [
      "(546, 28, 28)\n"
     ]
    }
   ],
   "source": [
    "print(train_data.imgs.shape)"
   ]
  },
  {
   "cell_type": "code",
   "execution_count": 11,
   "metadata": {},
   "outputs": [
    {
     "name": "stdout",
     "output_type": "stream",
     "text": [
      "train_images val_images test_images train_labels val_labels test_labels\n"
     ]
    }
   ],
   "source": [
    "import numpy as np\n",
    "alt_data = np.load(\"/home/hazem/.medmnist/breastmnist.npz\")\n",
    "print(*alt_data.keys())"
   ]
  },
  {
   "cell_type": "code",
   "execution_count": 2,
   "metadata": {},
   "outputs": [],
   "source": [
    "import json\n",
    "import os\n",
    "def read_data(train_data_path, test_data_path):\n",
    "    if not isinstance(test_data_path, list):\n",
    "        test_data_path = [test_data_path, ]\n",
    "    groups = []\n",
    "    train_data = {}\n",
    "    test_data = [{} for _ in test_data_path]\n",
    "    train_files = os.listdir(train_data_path)\n",
    "    train_files = [f for f in train_files if f.endswith(\".json\")]\n",
    "    for f in train_files:\n",
    "        file_path = os.path.join(train_data_path, f)\n",
    "        with open(file_path, \"r\") as inf:\n",
    "            cdata = json.load(inf)\n",
    "        if \"hierarchies\" in cdata:\n",
    "            groups.extend(cdata[\"hierarchies\"])\n",
    "        train_data.update(cdata[\"user_data\"])\n",
    "    for F, td in zip(test_data_path, test_data):\n",
    "        test_files = os.listdir(F)\n",
    "        test_files = [f for f in test_files if f.endswith(\".json\")]\n",
    "        for f in test_files:\n",
    "            file_path = os.path.join(F, f)\n",
    "            with open(file_path, \"r\") as inf:\n",
    "                cdata = json.load(inf)\n",
    "            td.update(cdata[\"user_data\"])\n",
    "    clients = list(sorted(train_data.keys()))\n",
    "    return clients, groups, train_data, test_data\n"
   ]
  },
  {
   "cell_type": "code",
   "execution_count": 3,
   "metadata": {},
   "outputs": [],
   "source": [
    "clients, groups, train_data, test_data = read_data('../../code/FedReg/data/mnist_10000/data/train/', '../../code/FedReg/data/mnist_10000/data/valid/')\n"
   ]
  },
  {
   "cell_type": "code",
   "execution_count": 7,
   "metadata": {},
   "outputs": [
    {
     "name": "stdout",
     "output_type": "stream",
     "text": [
      "<class 'list'>\n",
      "<class 'list'>\n",
      "<class 'dict'>\n",
      "<class 'list'>\n",
      "[]\n"
     ]
    }
   ],
   "source": [
    "print(type(clients))\n",
    "print(type(groups))\n",
    "print(type(train_data))\n",
    "print(type(test_data))\n",
    "print(groups)\n"
   ]
  },
  {
   "cell_type": "code",
   "execution_count": 9,
   "metadata": {},
   "outputs": [
    {
     "name": "stdout",
     "output_type": "stream",
     "text": [
      "5000\n",
      "0\n",
      "5000\n",
      "1\n"
     ]
    }
   ],
   "source": [
    "print(len(clients))\n",
    "print(len(groups))\n",
    "print(len(train_data))\n",
    "print(len(test_data))"
   ]
  },
  {
   "cell_type": "code",
   "execution_count": null,
   "metadata": {},
   "outputs": [],
   "source": [
    "clients, groups, train_data, test_data = read_data('../../code/FedReg/data/mnist_10000/data/train/', '../../code/FedReg/data/mnist_10000/data/valid/')\n"
   ]
  },
  {
   "cell_type": "code",
   "execution_count": 22,
   "metadata": {},
   "outputs": [],
   "source": [
    "first_datax = np.array(train_data['f_00000']['x'])\n",
    "first_datay = np.array(train_data['f_00000']['y'])"
   ]
  },
  {
   "cell_type": "code",
   "execution_count": 26,
   "metadata": {},
   "outputs": [],
   "source": [
    "import matplotlib.pyplot as plt"
   ]
  },
  {
   "cell_type": "code",
   "execution_count": 25,
   "metadata": {},
   "outputs": [
    {
     "name": "stdout",
     "output_type": "stream",
     "text": [
      "(2, 784)\n",
      "(2,)\n"
     ]
    }
   ],
   "source": [
    "print(first_datax.shape)\n",
    "print(first_datay.shape)"
   ]
  },
  {
   "cell_type": "code",
   "execution_count": 33,
   "metadata": {},
   "outputs": [
    {
     "data": {
      "text/plain": [
       "<matplotlib.image.AxesImage at 0x7f1f95a750c0>"
      ]
     },
     "execution_count": 33,
     "metadata": {},
     "output_type": "execute_result"
    },
    {
     "data": {
      "image/png": "[encoded data removed]",
      "text/plain": [
       "<Figure size 640x480 with 1 Axes>"
      ]
     },
     "metadata": {},
     "output_type": "display_data"
    }
   ],
   "source": [
    "plt.imshow(first_datax[1].reshape((28,28,1)), cmap='gray')"
   ]
  },
  {
   "cell_type": "code",
   "execution_count": 35,
   "metadata": {},
   "outputs": [
    {
     "data": {
      "text/plain": [
       "5000"
      ]
     },
     "execution_count": 35,
     "metadata": {},
     "output_type": "execute_result"
    }
   ],
   "source": [
    "len(test_data[0])\n"
   ]
  },
  {
   "cell_type": "code",
   "execution_count": null,
   "metadata": {},
   "outputs": [],
   "source": [
    "import medmnist\n",
    "from torch.utils.data import TensorDataset\n",
    "import torch\n",
    "def download_dataset(ds_name, root=None):\n",
    "    ds_name = ds_name.lower()\n",
    "    assert ds_name in [\"pathmnist\", \"chestmnist\", \"dermamnist\", \"octmnist\", \"pneumoniamnist\", \"retinamnist\", \"breastmnist\", \"bloodmnist\",\n",
    "     \"tissuemnist\", \"organamnist\", \"organcmnist\", \"organsmnist\"], \"Dataset's name is not correct, please check the README for the available datasets\"\n",
    "    import medmnist\n",
    "    from medmnist import INFO\n",
    "    dataclass = getattr(medmnist, INFO[ds_name][\"python_class\"])\n",
    "    if root == None:\n",
    "        train_dataset = dataclass(split=\"train\", download=True)\n",
    "        test_dataset = dataclass(split=\"test\", download=Truimgse)\n",
    "    else:\n",
    "        train_dataset = dataclass(root=root, split=\"train\", download=True)\n",
    "        test_dataset = dataclass(root=root, split=\"test\", download=True)\n",
    "    \n",
    "    return train_dataset, test_dataset    \n",
    "    \n",
    "\n",
    "def load_dataset(data_path):\n",
    "    # train_images val_images test_images train_labels val_labels test_labels\n",
    "    data = np.load(data_path)\n",
    "    train_dataset = TensorDataset(data[\"train_images\"], data[\"train_labels\"])\n",
    "    test_dataset = TensorDataset(data[\"test_images\"], data[\"test_labels\"])\n",
    "    return train_dataset, test_dataset    "
   ]
  },
  {
   "cell_type": "code",
   "execution_count": 67,
   "metadata": {},
   "outputs": [],
   "source": [
    "import numpy as np\n",
    "\n",
    "\n",
    "def read_data(ds_name=None,download=False,num_clients=5, data_path=None, iid=True):\n",
    "    print(ds_name)\n",
    "    print(download)\n",
    "    print(num_clients)\n",
    "    print(data_path)\n",
    "    print(iid)\n",
    "    def iid_partition(dataset, clients):\n",
    "        \"\"\"\n",
    "        I.I.D paritioning of data over clients\n",
    "        Shuffle the data\n",
    "        Split it between clients\n",
    "\n",
    "        params:\n",
    "          - dataset (torch.utils.Dataset): Dataset containing the PathMNIST Images \n",
    "          - clients (int): Number of Clients to split the data between\n",
    "        returns:\n",
    "          - Dictionary of image indexes for each client\n",
    "        \"\"\"\n",
    "\n",
    "        num_items_per_client = int(len(dataset)/clients)\n",
    "        client_dict = {}\n",
    "        image_idxs = [i for i in range(len(dataset))]\n",
    "\n",
    "        for i in range(clients):\n",
    "            client_dict[i] = set(np.random.choice(image_idxs, num_items_per_client, replace=False))\n",
    "            image_idxs = list(set(image_idxs) - client_dict[i])\n",
    "        return client_dict # client dict has [idx: list(datapoint indices)\n",
    "    \n",
    "    def non_iid_partition(dataset, num_clients):\n",
    "        \"\"\"\n",
    "        non I.I.D parititioning of data over clients\n",
    "        Sort the data by the digit label\n",
    "        Divide the data into N shards of size S\n",
    "        Each of the clients will get X shards\n",
    "\n",
    "        params:\n",
    "          - dataset (torch.utils.Dataset): Dataset containing the pathMNIST Images\n",
    "          - num_clients (int): Number of Clients to split the data between\n",
    "          - total_shards (int): Number of shards to partition the data in\n",
    "          - shards_size (int): Size of each shard \n",
    "          - num_shards_per_client (int): Number of shards of size shards_size that each client receives\n",
    "\n",
    "        returns:\n",
    "          - Dictionary of image indexes for each client\n",
    "        \"\"\"\n",
    "        shards_size = 9\n",
    "        total_shards = len(dataset)// shards_size\n",
    "        num_shards_per_client = total_shards // num_clients\n",
    "        shard_idxs = [i for i in range(total_shards)]\n",
    "        client_dict = {i: np.array([], dtype='int64') for i in range(num_clients)}\n",
    "        idxs = np.arange(len(dataset))\n",
    "        # get labels as a numpy array\n",
    "        data_labels = np.array([target.numpy().flatten() for _, target in dataset]).flatten()\n",
    "        # sort the labels\n",
    "        label_idxs = np.vstack((idxs, data_labels))\n",
    "        label_idxs = label_idxs[:, label_idxs[1,:].argsort()]\n",
    "        idxs = label_idxs[0,:]\n",
    "\n",
    "        # divide the data into total_shards of size shards_size\n",
    "        # assign num_shards_per_client to each client\n",
    "        for i in range(num_clients):\n",
    "            rand_set = set(np.random.choice(shard_idxs, num_shards_per_client, replace=False))\n",
    "            shard_idxs = list(set(shard_idxs) - rand_set)\n",
    "\n",
    "            for rand in rand_set:\n",
    "                client_dict[i] = np.concatenate((client_dict[i], idxs[rand*shards_size:(rand+1)*shards_size]), axis=0)\n",
    "        return client_dict # client dict has [idx: list(datapoint indices)\n",
    "    \n",
    "    #### \n",
    "    assert not (download==False and data_path == None), \"Either provide True for download or the data path\"\n",
    "    assert not (download == True and ds_name == None),  \"Provide a dataset name please\"\n",
    "    \n",
    "    # read_data(ds_name=None,download=False,num_clients=5, data_path=None)\n",
    "\n",
    "    if download:\n",
    "        train_dataset, test_dataset = download_dataset(ds_name=ds_name, root=data_path)\n",
    "        print(type(train_dataset.imgs))\n",
    "        print(type(train_dataset.labels))\n",
    "        train_dataset = TensorDataset(torch.Tensor(train_dataset.imgs), torch.tensor(train_dataset.labels))\n",
    "        test_dataset = TensorDataset(torch.Tensor(test_dataset.imgs), torch.tensor(test_dataset.labels))\n",
    "    else:\n",
    "        train_dataset, test_dataset = load_dataset(data_path)\n",
    "\n",
    "    if iid:\n",
    "        clients_dict = iid_partition(train_dataset, num_clients)\n",
    "    else:\n",
    "        clients_dict = non_iid_partition(train_dataset, num_clients)\n",
    "\n",
    "    # groups mean hierarchies, will not implement for now\n",
    "    groups = []\n",
    "\n",
    "    return clients_dict.keys(), groups, clients_dict, test_dataset"
   ]
  },
  {
   "cell_type": "code",
   "execution_count": 27,
   "metadata": {},
   "outputs": [
    {
     "name": "stdout",
     "output_type": "stream",
     "text": [
      "breastmnist\n",
      "True\n",
      "5\n",
      "./data\n",
      "True\n",
      "Downloading https://zenodo.org/record/6496656/files/breastmnist.npz?download=1 to ./data/breastmnist.npz\n"
     ]
    },
    {
     "data": {
      "application/vnd.jupyter.widget-view+json": {
       "model_id": "4a37c3d0bc094011a754b4e942af013f",
       "version_major": 2,
       "version_minor": 0
      },
      "text/plain": [
       "  0%|          | 0/559580 [00:00<?, ?it/s]"
      ]
     },
     "metadata": {},
     "output_type": "display_data"
    },
    {
     "name": "stdout",
     "output_type": "stream",
     "text": [
      "Using downloaded and verified file: ./data/breastmnist.npz\n",
      "<class 'numpy.ndarray'>\n",
      "<class 'numpy.ndarray'>\n"
     ]
    }
   ],
   "source": [
    "clients, groups , clients_data, test_dataset = read_data(ds_name=\"breastmnist\",download=True,num_clients=5, data_path=\"./data\", iid=True)"
   ]
  },
  {
   "cell_type": "code",
   "execution_count": 31,
   "metadata": {},
   "outputs": [
    {
     "name": "stdout",
     "output_type": "stream",
     "text": [
      "clients type: <class 'dict_keys'> length: 5\n",
      "groups type: <class 'list'> length: 0\n",
      "clients_data type: <class 'dict'> length: 5\n",
      "test_dataset type: <class 'torch.utils.data.dataset.TensorDataset'> length: 156\n"
     ]
    }
   ],
   "source": [
    "print(\"clients type:\", type(clients), \"length:\", len(clients))\n",
    "print(\"groups type:\", type(groups), \"length:\", len(groups))\n",
    "print(\"clients_data type:\", type(clients_data), \"length:\", len(clients_data))\n",
    "print(\"test_dataset type:\", type(test_dataset), \"length:\", len(test_dataset))"
   ]
  },
  {
   "cell_type": "code",
   "execution_count": 39,
   "metadata": {},
   "outputs": [
    {
     "data": {
      "text/plain": [
       "156"
      ]
     },
     "execution_count": 39,
     "metadata": {},
     "output_type": "execute_result"
    }
   ],
   "source": [
    "len(test_dataset)"
   ]
  },
  {
   "cell_type": "code",
   "execution_count": 35,
   "metadata": {},
   "outputs": [
    {
     "name": "stdout",
     "output_type": "stream",
     "text": [
      "545\n"
     ]
    }
   ],
   "source": [
    "print(sum([len(i) for i in clients_data.values()]))"
   ]
  },
  {
   "cell_type": "code",
   "execution_count": 68,
   "metadata": {},
   "outputs": [],
   "source": [
    "!rm ./data/breastmnist.npz"
   ]
  },
  {
   "cell_type": "code",
   "execution_count": 69,
   "metadata": {},
   "outputs": [
    {
     "name": "stdout",
     "output_type": "stream",
     "text": [
      "breastmnist\n",
      "True\n",
      "5\n",
      "./data\n",
      "False\n",
      "Downloading https://zenodo.org/record/6496656/files/breastmnist.npz?download=1 to ./data/breastmnist.npz\n"
     ]
    },
    {
     "data": {
      "application/vnd.jupyter.widget-view+json": {
       "model_id": "4f073c79c2eb46849a164cf77bf648d2",
       "version_major": 2,
       "version_minor": 0
      },
      "text/plain": [
       "  0%|          | 0/559580 [00:00<?, ?it/s]"
      ]
     },
     "metadata": {},
     "output_type": "display_data"
    },
    {
     "name": "stdout",
     "output_type": "stream",
     "text": [
      "Using downloaded and verified file: ./data/breastmnist.npz\n",
      "<class 'numpy.ndarray'>\n",
      "<class 'numpy.ndarray'>\n"
     ]
    }
   ],
   "source": [
    "nclients, ngroups , nclients_data, ntest_dataset = read_data(ds_name=\"breastmnist\",download=True,num_clients=5, data_path=\"./data\", iid=False)\n"
   ]
  },
  {
   "cell_type": "code",
   "execution_count": 70,
   "metadata": {},
   "outputs": [
    {
     "name": "stdout",
     "output_type": "stream",
     "text": [
      "clients type: <class 'dict_keys'> length: 5\n",
      "groups type: <class 'list'> length: 0\n",
      "clients_data type: <class 'dict'> length: 5\n",
      "test_dataset type: <class 'torch.utils.data.dataset.TensorDataset'> length: 156\n"
     ]
    }
   ],
   "source": [
    "print(\"clients type:\", type(nclients), \"length:\", len(nclients))\n",
    "print(\"groups type:\", type(ngroups), \"length:\", len(ngroups))\n",
    "print(\"clients_data type:\", type(nclients_data), \"length:\", len(nclients_data))\n",
    "print(\"test_dataset type:\", type(ntest_dataset), \"length:\", len(ntest_dataset))"
   ]
  },
  {
   "cell_type": "code",
   "execution_count": 84,
   "metadata": {},
   "outputs": [
    {
     "name": "stdout",
     "output_type": "stream",
     "text": [
      "train_labels\n",
      "(array([0, 1], dtype=uint8), array([147, 399]))\n",
      "0.3684210526315789\n",
      "test_labels\n",
      "(array([0, 1], dtype=uint8), array([ 42, 114]))\n",
      "0.3684210526315789\n",
      "val_labels\n",
      "(array([0, 1], dtype=uint8), array([21, 57]))\n",
      "0.3684210526315789\n"
     ]
    }
   ],
   "source": [
    "# train_images val_images test_images train_labels val_labels test_labels\n",
    "data_all = np.load(\"./data/breastmnist.npz\")\n",
    "train_labels = np.unique(data_all[\"train_labels\"], return_counts=True)\n",
    "test_labels = np.unique(data_all[\"test_labels\"], return_counts=True)\n",
    "val_labels = np.unique(data_all[\"val_labels\"], return_counts=True)\n",
    "\n",
    "print(\"train_labels\")\n",
    "print(train_labels)\n",
    "print(train_labels[1][0] / train_labels[1][1])\n",
    "print(\"test_labels\")\n",
    "print(test_labels)\n",
    "print(test_labels[1][0] / test_labels[1][1])\n",
    "print(\"val_labels\")\n",
    "print(val_labels)\n",
    "print(val_labels[1][0] / val_labels[1][1])"
   ]
  }
 ],
 "metadata": {
  "interpreter": {
   "hash": "0a887a05077574c1a3c0ad038b480e334bde0840f4a7b639e98601dedac24eb0"
  },
  "kernelspec": {
   "display_name": "Python 3.10.9 64-bit ('anaconda_enviroment': conda)",
   "name": "python3"
  },
  "language_info": {
   "codemirror_mode": {
    "name": "ipython",
    "version": 3
   },
   "file_extension": ".py",
   "mimetype": "text/x-python",
   "name": "python",
   "nbconvert_exporter": "python",
   "pygments_lexer": "ipython3",
   "version": "3.10.9"
  },
  "orig_nbformat": 4
 },
 "nbformat": 4,
 "nbformat_minor": 2
}
